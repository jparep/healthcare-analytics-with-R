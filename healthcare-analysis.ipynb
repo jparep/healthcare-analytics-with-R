{
 "cells": [
  {
   "cell_type": "code",
   "execution_count": 3,
   "metadata": {
    "vscode": {
     "languageId": "r"
    }
   },
   "outputs": [
    {
     "ename": "ERROR",
     "evalue": "Error in .chooseMirror(m, \"CRAN\", graphics, ind): cannot choose a CRAN mirror non-interactively\n",
     "output_type": "error",
     "traceback": [
      "Error in .chooseMirror(m, \"CRAN\", graphics, ind): cannot choose a CRAN mirror non-interactively\nTraceback:\n",
      "1. .chooseMirror(m, \"CRAN\", graphics, ind)",
      "2. stop(\"cannot choose a \", label, \" mirror non-interactively\")",
      "3. .handleSimpleError(function (cnd) \n . {\n .     watcher$capture_plot_and_output()\n .     cnd <- sanitize_call(cnd)\n .     watcher$push(cnd)\n .     switch(on_error, continue = invokeRestart(\"eval_continue\"), \n .         stop = invokeRestart(\"eval_stop\"), error = NULL)\n . }, \"cannot choose a CRAN mirror non-interactively\", base::quote(.chooseMirror(m, \n .     \"CRAN\", graphics, ind)))"
     ]
    }
   ],
   "source": [
    "# # Install essential packages\n",
    "# install.packages(\"tidyverse\")\n",
    "# install.packages(\"ggplot2\")\n",
    "# install.packages(\"dplyr\")\n",
    "# install.packages(\"caret\")\n",
    "# install.packages(\"randomForest\")\n",
    "# install.packages(\"e1071\")\n",
    "\n",
    "#install.packages(\"mice\", dependencies=TRUE)\n"
   ]
  },
  {
   "cell_type": "markdown",
   "metadata": {},
   "source": [
    "### Import Libraries"
   ]
  },
  {
   "cell_type": "code",
   "execution_count": 16,
   "metadata": {
    "vscode": {
     "languageId": "r"
    }
   },
   "outputs": [],
   "source": [
    "# Load essential libraries\n",
    "library(tidyverse)\n",
    "library(caret)\n",
    "library(ggplot2)\n",
    "library(randomForest)\n",
    "library(e1071)\n",
    "library(mice)  # Load the package"
   ]
  },
  {
   "cell_type": "code",
   "execution_count": 17,
   "metadata": {
    "vscode": {
     "languageId": "r"
    }
   },
   "outputs": [
    {
     "name": "stderr",
     "output_type": "stream",
     "text": [
      "\u001b[1m\u001b[22m\u001b[90m[conflicted]\u001b[39m Removing existing preference.\n",
      "\u001b[1m\u001b[22m\u001b[90m[conflicted]\u001b[39m Will prefer \u001b[1m\u001b[34mdplyr\u001b[39m\u001b[22m::filter over any other package.\n",
      "\u001b[1m\u001b[22m\u001b[90m[conflicted]\u001b[39m Removing existing preference.\n",
      "\u001b[1m\u001b[22m\u001b[90m[conflicted]\u001b[39m Will prefer \u001b[1m\u001b[34mdplyr\u001b[39m\u001b[22m::lag over any other package.\n",
      "\u001b[1m\u001b[22m\u001b[90m[conflicted]\u001b[39m Removing existing preference.\n",
      "\u001b[1m\u001b[22m\u001b[90m[conflicted]\u001b[39m Will prefer \u001b[1m\u001b[34mdplyr\u001b[39m\u001b[22m::combine over any other package.\n",
      "\u001b[1m\u001b[22m\u001b[90m[conflicted]\u001b[39m Removing existing preference.\n",
      "\u001b[1m\u001b[22m\u001b[90m[conflicted]\u001b[39m Will prefer \u001b[1m\u001b[34mdplyr\u001b[39m\u001b[22m::filter over any other package.\n",
      "\u001b[1m\u001b[22m\u001b[90m[conflicted]\u001b[39m Removing existing preference.\n",
      "\u001b[1m\u001b[22m\u001b[90m[conflicted]\u001b[39m Will prefer \u001b[1m\u001b[34mdplyr\u001b[39m\u001b[22m::lag over any other package.\n",
      "\u001b[1m\u001b[22m\u001b[90m[conflicted]\u001b[39m Removing existing preference.\n",
      "\u001b[1m\u001b[22m\u001b[90m[conflicted]\u001b[39m Will prefer \u001b[1m\u001b[34mpurrr\u001b[39m\u001b[22m::lift over any other package.\n",
      "\u001b[1m\u001b[22m\u001b[90m[conflicted]\u001b[39m Removing existing preference.\n",
      "\u001b[1m\u001b[22m\u001b[90m[conflicted]\u001b[39m Will prefer \u001b[1m\u001b[34mggplot2\u001b[39m\u001b[22m::margin over any other package.\n"
     ]
    }
   ],
   "source": [
    "# Install and load the conflicted package (if not installed, install first)\n",
    "if (!requireNamespace(\"conflicted\", quietly = TRUE)) {\n",
    "  install.packages(\"conflicted\")\n",
    "}\n",
    "# Ensure conflicted is loaded\n",
    "library(conflicted)\n",
    "#conflicts()  # Check what functions have conflicts\n",
    "#conflicted::conflict_scout()\n",
    "\n",
    "# Explicitly resolve conflicts\n",
    "conflicted::conflict_prefer(\"filter\", \"dplyr\")  # Always use dplyr::filter()\n",
    "conflicted::conflict_prefer(\"lag\", \"dplyr\")     # Always use dplyr::lag()\n",
    "\n",
    "# Resolve conflicts explicitly\n",
    "conflicted::conflict_prefer(\"combine\", \"dplyr\")  # Prefer dplyr::combine()\n",
    "conflicted::conflict_prefer(\"filter\", \"dplyr\")   # Prefer dplyr::filter()\n",
    "conflicted::conflict_prefer(\"lag\", \"dplyr\")      # Prefer dplyr::lag()\n",
    "conflicted::conflict_prefer(\"lift\", \"purrr\")     # Prefer purrr::lift()\n",
    "conflicted::conflict_prefer(\"margin\", \"ggplot2\") # Prefer ggplot2::margin()\n",
    "\n",
    "options(warn = -1)  # Suppress warnings globally\n",
    "#options(warn = 0)  # Re-enable warnings"
   ]
  },
  {
   "cell_type": "markdown",
   "metadata": {},
   "source": [
    "### Load Data set"
   ]
  },
  {
   "cell_type": "code",
   "execution_count": 2,
   "metadata": {
    "vscode": {
     "languageId": "r"
    }
   },
   "outputs": [
    {
     "data": {
      "text/html": [
       "'/home/jparep/proj/healthcare-analytics-with-R'"
      ],
      "text/latex": [
       "'/home/jparep/proj/healthcare-analytics-with-R'"
      ],
      "text/markdown": [
       "'/home/jparep/proj/healthcare-analytics-with-R'"
      ],
      "text/plain": [
       "[1] \"/home/jparep/proj/healthcare-analytics-with-R\""
      ]
     },
     "metadata": {},
     "output_type": "display_data"
    }
   ],
   "source": [
    "# Get the current directory\n",
    "getwd()"
   ]
  },
  {
   "cell_type": "code",
   "execution_count": 3,
   "metadata": {
    "vscode": {
     "languageId": "r"
    }
   },
   "outputs": [],
   "source": [
    "data <- read.csv(\"./data/US_chronic_disease_indicator.csv\")"
   ]
  },
  {
   "cell_type": "markdown",
   "metadata": {},
   "source": [
    "### EDA"
   ]
  },
  {
   "cell_type": "code",
   "execution_count": 4,
   "metadata": {
    "vscode": {
     "languageId": "r"
    }
   },
   "outputs": [
    {
     "data": {
      "text/plain": [
       "   YearStart       YearEnd     LocationAbbr       LocationDesc      \n",
       " Min.   :2001   Min.   :2001   Length:403984      Length:403984     \n",
       " 1st Qu.:2011   1st Qu.:2012   Class :character   Class :character  \n",
       " Median :2013   Median :2013   Mode  :character   Mode  :character  \n",
       " Mean   :2013   Mean   :2013                                        \n",
       " 3rd Qu.:2014   3rd Qu.:2014                                        \n",
       " Max.   :2016   Max.   :2016                                        \n",
       "                                                                    \n",
       "  DataSource           Topic             Question         Response      \n",
       " Length:403984      Length:403984      Length:403984      Mode:logical  \n",
       " Class :character   Class :character   Class :character   NA's:403984   \n",
       " Mode  :character   Mode  :character   Mode  :character                 \n",
       "                                                                        \n",
       "                                                                        \n",
       "                                                                        \n",
       "                                                                        \n",
       " DataValueUnit      DataValueType       DataValue          DataValueAlt    \n",
       " Length:403984      Length:403984      Length:403984      Min.   :      0  \n",
       " Class :character   Class :character   Class :character   1st Qu.:     19  \n",
       " Mode  :character   Mode  :character   Mode  :character   Median :     42  \n",
       "                                                          Mean   :    727  \n",
       "                                                          3rd Qu.:     71  \n",
       "                                                          Max.   :3967333  \n",
       "                                                          NA's   :130318   \n",
       " DataValueFootnoteSymbol DatavalueFootnote  LowConfidenceLimit\n",
       " Length:403984           Length:403984      Min.   :   0.20   \n",
       " Class :character        Class :character   1st Qu.:  13.00   \n",
       " Mode  :character        Mode  :character   Median :  31.10   \n",
       "                                            Mean   :  49.73   \n",
       "                                            3rd Qu.:  57.40   \n",
       "                                            Max.   :1293.90   \n",
       "                                            NA's   :157165    \n",
       " HighConfidenceLimit StratificationCategory1 Stratification1   \n",
       " Min.   :   0.42     Length:403984           Length:403984     \n",
       " 1st Qu.:  20.20     Class :character        Class :character  \n",
       " Median :  45.60     Mode  :character        Mode  :character  \n",
       " Mean   :  62.65                                               \n",
       " 3rd Qu.:  72.20                                               \n",
       " Max.   :2088.00                                               \n",
       " NA's   :157165                                                \n",
       " StratificationCategory2 Stratification2 StratificationCategory3\n",
       " Mode:logical            Mode:logical    Mode:logical           \n",
       " NA's:403984             NA's:403984     NA's:403984            \n",
       "                                                                \n",
       "                                                                \n",
       "                                                                \n",
       "                                                                \n",
       "                                                                \n",
       " Stratification3 GeoLocation        ResponseID       LocationID\n",
       " Mode:logical    Length:403984      Mode:logical   Min.   : 1  \n",
       " NA's:403984     Class :character   NA's:403984    1st Qu.:17  \n",
       "                 Mode  :character                  Median :30  \n",
       "                                                   Mean   :31  \n",
       "                                                   3rd Qu.:45  \n",
       "                                                   Max.   :78  \n",
       "                                                               \n",
       "   TopicID           QuestionID        DataValueTypeID   \n",
       " Length:403984      Length:403984      Length:403984     \n",
       " Class :character   Class :character   Class :character  \n",
       " Mode  :character   Mode  :character   Mode  :character  \n",
       "                                                         \n",
       "                                                         \n",
       "                                                         \n",
       "                                                         \n",
       " StratificationCategoryID1 StratificationID1  StratificationCategoryID2\n",
       " Length:403984             Length:403984      Mode:logical             \n",
       " Class :character          Class :character   NA's:403984              \n",
       " Mode  :character          Mode  :character                            \n",
       "                                                                       \n",
       "                                                                       \n",
       "                                                                       \n",
       "                                                                       \n",
       " StratificationID2 StratificationCategoryID3 StratificationID3\n",
       " Mode:logical      Mode:logical              Mode:logical     \n",
       " NA's:403984       NA's:403984               NA's:403984      \n",
       "                                                              \n",
       "                                                              \n",
       "                                                              \n",
       "                                                              \n",
       "                                                              "
      ]
     },
     "metadata": {},
     "output_type": "display_data"
    }
   ],
   "source": [
    "# Get summary of the data\n",
    "summary(data)"
   ]
  },
  {
   "cell_type": "code",
   "execution_count": 5,
   "metadata": {
    "vscode": {
     "languageId": "r"
    }
   },
   "outputs": [
    {
     "data": {
      "text/html": [
       "<style>\n",
       ".list-inline {list-style: none; margin:0; padding: 0}\n",
       ".list-inline>li {display: inline-block}\n",
       ".list-inline>li:not(:last-child)::after {content: \"\\00b7\"; padding: 0 .5ex}\n",
       "</style>\n",
       "<ol class=list-inline><li>403984</li><li>34</li></ol>\n"
      ],
      "text/latex": [
       "\\begin{enumerate*}\n",
       "\\item 403984\n",
       "\\item 34\n",
       "\\end{enumerate*}\n"
      ],
      "text/markdown": [
       "1. 403984\n",
       "2. 34\n",
       "\n",
       "\n"
      ],
      "text/plain": [
       "[1] 403984     34"
      ]
     },
     "metadata": {},
     "output_type": "display_data"
    }
   ],
   "source": [
    "# Shape of the data\n",
    "dim(data)"
   ]
  },
  {
   "cell_type": "code",
   "execution_count": 6,
   "metadata": {
    "vscode": {
     "languageId": "r"
    }
   },
   "outputs": [
    {
     "name": "stdout",
     "output_type": "stream",
     "text": [
      "'data.frame':\t403984 obs. of  34 variables:\n",
      " $ YearStart                : int  2015 2015 2015 2015 2015 2015 2015 2015 2015 2015 ...\n",
      " $ YearEnd                  : int  2015 2015 2015 2015 2015 2015 2015 2015 2015 2015 ...\n",
      " $ LocationAbbr             : chr  \"AK\" \"AL\" \"AR\" \"AZ\" ...\n",
      " $ LocationDesc             : chr  \"Alaska\" \"Alabama\" \"Arkansas\" \"Arizona\" ...\n",
      " $ DataSource               : chr  \"YRBSS\" \"YRBSS\" \"YRBSS\" \"YRBSS\" ...\n",
      " $ Topic                    : chr  \"Alcohol\" \"Alcohol\" \"Alcohol\" \"Alcohol\" ...\n",
      " $ Question                 : chr  \"Alcohol use among youth\" \"Alcohol use among youth\" \"Alcohol use among youth\" \"Alcohol use among youth\" ...\n",
      " $ Response                 : logi  NA NA NA NA NA NA ...\n",
      " $ DataValueUnit            : chr  \"%\" \"%\" \"%\" \"%\" ...\n",
      " $ DataValueType            : chr  \"Crude Prevalence\" \"Crude Prevalence\" \"Crude Prevalence\" \"Crude Prevalence\" ...\n",
      " $ DataValue                : chr  \"22\" \"30.7\" \"27.6\" \"34.8\" ...\n",
      " $ DataValueAlt             : num  22 30.7 27.6 34.8 28.9 NA 30.2 20.1 33 NA ...\n",
      " $ DataValueFootnoteSymbol  : chr  \"\" \"\" \"\" \"\" ...\n",
      " $ DatavalueFootnote        : chr  \"\" \"\" \"\" \"\" ...\n",
      " $ LowConfidenceLimit       : num  19.7 27.3 24.5 29.7 23.6 NA 27.2 19.3 31.1 NA ...\n",
      " $ HighConfidenceLimit      : num  24.5 34.3 30.8 40.2 34.7 NA 33.4 21 35 NA ...\n",
      " $ StratificationCategory1  : chr  \"Overall\" \"Overall\" \"Overall\" \"Overall\" ...\n",
      " $ Stratification1          : chr  \"Overall\" \"Overall\" \"Overall\" \"Overall\" ...\n",
      " $ StratificationCategory2  : logi  NA NA NA NA NA NA ...\n",
      " $ Stratification2          : logi  NA NA NA NA NA NA ...\n",
      " $ StratificationCategory3  : logi  NA NA NA NA NA NA ...\n",
      " $ Stratification3          : logi  NA NA NA NA NA NA ...\n",
      " $ GeoLocation              : chr  \"(64.84507995700051, -147.72205903599973)\" \"(32.84057112200048, -86.63186076199969)\" \"(34.74865012400045, -92.27449074299966)\" \"(34.865970280000454, -111.76381127699972)\" ...\n",
      " $ ResponseID               : logi  NA NA NA NA NA NA ...\n",
      " $ LocationID               : int  2 1 5 4 6 8 9 11 12 13 ...\n",
      " $ TopicID                  : chr  \"ALC\" \"ALC\" \"ALC\" \"ALC\" ...\n",
      " $ QuestionID               : chr  \"ALC1_1\" \"ALC1_1\" \"ALC1_1\" \"ALC1_1\" ...\n",
      " $ DataValueTypeID          : chr  \"CrdPrev\" \"CrdPrev\" \"CrdPrev\" \"CrdPrev\" ...\n",
      " $ StratificationCategoryID1: chr  \"OVERALL\" \"OVERALL\" \"OVERALL\" \"OVERALL\" ...\n",
      " $ StratificationID1        : chr  \"OVR\" \"OVR\" \"OVR\" \"OVR\" ...\n",
      " $ StratificationCategoryID2: logi  NA NA NA NA NA NA ...\n",
      " $ StratificationID2        : logi  NA NA NA NA NA NA ...\n",
      " $ StratificationCategoryID3: logi  NA NA NA NA NA NA ...\n",
      " $ StratificationID3        : logi  NA NA NA NA NA NA ...\n"
     ]
    }
   ],
   "source": [
    "# Display the data structure\n",
    "str(data)"
   ]
  },
  {
   "cell_type": "code",
   "execution_count": 7,
   "metadata": {
    "vscode": {
     "languageId": "r"
    }
   },
   "outputs": [
    {
     "data": {
      "text/html": [
       "<style>\n",
       ".dl-inline {width: auto; margin:0; padding: 0}\n",
       ".dl-inline>dt, .dl-inline>dd {float: none; width: auto; display: inline-block}\n",
       ".dl-inline>dt::after {content: \":\\0020\"; padding-right: .5ex}\n",
       ".dl-inline>dt:not(:first-of-type) {padding-left: .5ex}\n",
       "</style><dl class=dl-inline><dt>YearStart</dt><dd>0</dd><dt>YearEnd</dt><dd>0</dd><dt>LocationAbbr</dt><dd>0</dd><dt>LocationDesc</dt><dd>0</dd><dt>DataSource</dt><dd>0</dd><dt>Topic</dt><dd>0</dd><dt>Question</dt><dd>0</dd><dt>Response</dt><dd>403984</dd><dt>DataValueUnit</dt><dd>0</dd><dt>DataValueType</dt><dd>0</dd><dt>DataValue</dt><dd>0</dd><dt>DataValueAlt</dt><dd>130318</dd><dt>DataValueFootnoteSymbol</dt><dd>0</dd><dt>DatavalueFootnote</dt><dd>0</dd><dt>LowConfidenceLimit</dt><dd>157165</dd><dt>HighConfidenceLimit</dt><dd>157165</dd><dt>StratificationCategory1</dt><dd>0</dd><dt>Stratification1</dt><dd>0</dd><dt>StratificationCategory2</dt><dd>403984</dd><dt>Stratification2</dt><dd>403984</dd><dt>StratificationCategory3</dt><dd>403984</dd><dt>Stratification3</dt><dd>403984</dd><dt>GeoLocation</dt><dd>0</dd><dt>ResponseID</dt><dd>403984</dd><dt>LocationID</dt><dd>0</dd><dt>TopicID</dt><dd>0</dd><dt>QuestionID</dt><dd>0</dd><dt>DataValueTypeID</dt><dd>0</dd><dt>StratificationCategoryID1</dt><dd>0</dd><dt>StratificationID1</dt><dd>0</dd><dt>StratificationCategoryID2</dt><dd>403984</dd><dt>StratificationID2</dt><dd>403984</dd><dt>StratificationCategoryID3</dt><dd>403984</dd><dt>StratificationID3</dt><dd>403984</dd></dl>\n"
      ],
      "text/latex": [
       "\\begin{description*}\n",
       "\\item[YearStart] 0\n",
       "\\item[YearEnd] 0\n",
       "\\item[LocationAbbr] 0\n",
       "\\item[LocationDesc] 0\n",
       "\\item[DataSource] 0\n",
       "\\item[Topic] 0\n",
       "\\item[Question] 0\n",
       "\\item[Response] 403984\n",
       "\\item[DataValueUnit] 0\n",
       "\\item[DataValueType] 0\n",
       "\\item[DataValue] 0\n",
       "\\item[DataValueAlt] 130318\n",
       "\\item[DataValueFootnoteSymbol] 0\n",
       "\\item[DatavalueFootnote] 0\n",
       "\\item[LowConfidenceLimit] 157165\n",
       "\\item[HighConfidenceLimit] 157165\n",
       "\\item[StratificationCategory1] 0\n",
       "\\item[Stratification1] 0\n",
       "\\item[StratificationCategory2] 403984\n",
       "\\item[Stratification2] 403984\n",
       "\\item[StratificationCategory3] 403984\n",
       "\\item[Stratification3] 403984\n",
       "\\item[GeoLocation] 0\n",
       "\\item[ResponseID] 403984\n",
       "\\item[LocationID] 0\n",
       "\\item[TopicID] 0\n",
       "\\item[QuestionID] 0\n",
       "\\item[DataValueTypeID] 0\n",
       "\\item[StratificationCategoryID1] 0\n",
       "\\item[StratificationID1] 0\n",
       "\\item[StratificationCategoryID2] 403984\n",
       "\\item[StratificationID2] 403984\n",
       "\\item[StratificationCategoryID3] 403984\n",
       "\\item[StratificationID3] 403984\n",
       "\\end{description*}\n"
      ],
      "text/markdown": [
       "YearStart\n",
       ":   0YearEnd\n",
       ":   0LocationAbbr\n",
       ":   0LocationDesc\n",
       ":   0DataSource\n",
       ":   0Topic\n",
       ":   0Question\n",
       ":   0Response\n",
       ":   403984DataValueUnit\n",
       ":   0DataValueType\n",
       ":   0DataValue\n",
       ":   0DataValueAlt\n",
       ":   130318DataValueFootnoteSymbol\n",
       ":   0DatavalueFootnote\n",
       ":   0LowConfidenceLimit\n",
       ":   157165HighConfidenceLimit\n",
       ":   157165StratificationCategory1\n",
       ":   0Stratification1\n",
       ":   0StratificationCategory2\n",
       ":   403984Stratification2\n",
       ":   403984StratificationCategory3\n",
       ":   403984Stratification3\n",
       ":   403984GeoLocation\n",
       ":   0ResponseID\n",
       ":   403984LocationID\n",
       ":   0TopicID\n",
       ":   0QuestionID\n",
       ":   0DataValueTypeID\n",
       ":   0StratificationCategoryID1\n",
       ":   0StratificationID1\n",
       ":   0StratificationCategoryID2\n",
       ":   403984StratificationID2\n",
       ":   403984StratificationCategoryID3\n",
       ":   403984StratificationID3\n",
       ":   403984\n",
       "\n"
      ],
      "text/plain": [
       "                YearStart                   YearEnd              LocationAbbr \n",
       "                        0                         0                         0 \n",
       "             LocationDesc                DataSource                     Topic \n",
       "                        0                         0                         0 \n",
       "                 Question                  Response             DataValueUnit \n",
       "                        0                    403984                         0 \n",
       "            DataValueType                 DataValue              DataValueAlt \n",
       "                        0                         0                    130318 \n",
       "  DataValueFootnoteSymbol         DatavalueFootnote        LowConfidenceLimit \n",
       "                        0                         0                    157165 \n",
       "      HighConfidenceLimit   StratificationCategory1           Stratification1 \n",
       "                   157165                         0                         0 \n",
       "  StratificationCategory2           Stratification2   StratificationCategory3 \n",
       "                   403984                    403984                    403984 \n",
       "          Stratification3               GeoLocation                ResponseID \n",
       "                   403984                         0                    403984 \n",
       "               LocationID                   TopicID                QuestionID \n",
       "                        0                         0                         0 \n",
       "          DataValueTypeID StratificationCategoryID1         StratificationID1 \n",
       "                        0                         0                         0 \n",
       "StratificationCategoryID2         StratificationID2 StratificationCategoryID3 \n",
       "                   403984                    403984                    403984 \n",
       "        StratificationID3 \n",
       "                   403984 "
      ]
     },
     "metadata": {},
     "output_type": "display_data"
    }
   ],
   "source": [
    "# Check for missing values\n",
    "colSums(is.na(data))"
   ]
  },
  {
   "cell_type": "code",
   "execution_count": 8,
   "metadata": {
    "vscode": {
     "languageId": "r"
    }
   },
   "outputs": [
    {
     "data": {
      "image/png": "[encoded data removed]",
      "text/plain": [
       "plot without title"
      ]
     },
     "metadata": {
      "image/png": {
       "height": 420,
       "width": 420
      }
     },
     "output_type": "display_data"
    }
   ],
   "source": [
    "# Plot distribution of indicators by year\n",
    "ggplot(data, aes(x = YearStart)) +\n",
    "  geom_bar(fill = \"steelblue\") +\n",
    "  labs(title = \"Distribution of Indicators by Year\", x = \"Year\", y = \"Count\")\n"
   ]
  },
  {
   "cell_type": "markdown",
   "metadata": {},
   "source": [
    "1. ### Data processing - NA Omit"
   ]
  },
  {
   "cell_type": "code",
   "execution_count": 9,
   "metadata": {
    "vscode": {
     "languageId": "r"
    }
   },
   "outputs": [
    {
     "data": {
      "text/html": [
       "<style>\n",
       ".dl-inline {width: auto; margin:0; padding: 0}\n",
       ".dl-inline>dt, .dl-inline>dd {float: none; width: auto; display: inline-block}\n",
       ".dl-inline>dt::after {content: \":\\0020\"; padding-right: .5ex}\n",
       ".dl-inline>dt:not(:first-of-type) {padding-left: .5ex}\n",
       "</style><dl class=dl-inline><dt>YearStart</dt><dd>0</dd><dt>YearEnd</dt><dd>0</dd><dt>LocationAbbr</dt><dd>0</dd><dt>LocationDesc</dt><dd>0</dd><dt>DataSource</dt><dd>0</dd><dt>Topic</dt><dd>0</dd><dt>Question</dt><dd>0</dd><dt>Response</dt><dd>0</dd><dt>DataValueUnit</dt><dd>0</dd><dt>DataValueType</dt><dd>0</dd><dt>DataValue</dt><dd>0</dd><dt>DataValueAlt</dt><dd>0</dd><dt>DataValueFootnoteSymbol</dt><dd>0</dd><dt>DatavalueFootnote</dt><dd>0</dd><dt>LowConfidenceLimit</dt><dd>0</dd><dt>HighConfidenceLimit</dt><dd>0</dd><dt>StratificationCategory1</dt><dd>0</dd><dt>Stratification1</dt><dd>0</dd><dt>StratificationCategory2</dt><dd>0</dd><dt>Stratification2</dt><dd>0</dd><dt>StratificationCategory3</dt><dd>0</dd><dt>Stratification3</dt><dd>0</dd><dt>GeoLocation</dt><dd>0</dd><dt>ResponseID</dt><dd>0</dd><dt>LocationID</dt><dd>0</dd><dt>TopicID</dt><dd>0</dd><dt>QuestionID</dt><dd>0</dd><dt>DataValueTypeID</dt><dd>0</dd><dt>StratificationCategoryID1</dt><dd>0</dd><dt>StratificationID1</dt><dd>0</dd><dt>StratificationCategoryID2</dt><dd>0</dd><dt>StratificationID2</dt><dd>0</dd><dt>StratificationCategoryID3</dt><dd>0</dd><dt>StratificationID3</dt><dd>0</dd></dl>\n"
      ],
      "text/latex": [
       "\\begin{description*}\n",
       "\\item[YearStart] 0\n",
       "\\item[YearEnd] 0\n",
       "\\item[LocationAbbr] 0\n",
       "\\item[LocationDesc] 0\n",
       "\\item[DataSource] 0\n",
       "\\item[Topic] 0\n",
       "\\item[Question] 0\n",
       "\\item[Response] 0\n",
       "\\item[DataValueUnit] 0\n",
       "\\item[DataValueType] 0\n",
       "\\item[DataValue] 0\n",
       "\\item[DataValueAlt] 0\n",
       "\\item[DataValueFootnoteSymbol] 0\n",
       "\\item[DatavalueFootnote] 0\n",
       "\\item[LowConfidenceLimit] 0\n",
       "\\item[HighConfidenceLimit] 0\n",
       "\\item[StratificationCategory1] 0\n",
       "\\item[Stratification1] 0\n",
       "\\item[StratificationCategory2] 0\n",
       "\\item[Stratification2] 0\n",
       "\\item[StratificationCategory3] 0\n",
       "\\item[Stratification3] 0\n",
       "\\item[GeoLocation] 0\n",
       "\\item[ResponseID] 0\n",
       "\\item[LocationID] 0\n",
       "\\item[TopicID] 0\n",
       "\\item[QuestionID] 0\n",
       "\\item[DataValueTypeID] 0\n",
       "\\item[StratificationCategoryID1] 0\n",
       "\\item[StratificationID1] 0\n",
       "\\item[StratificationCategoryID2] 0\n",
       "\\item[StratificationID2] 0\n",
       "\\item[StratificationCategoryID3] 0\n",
       "\\item[StratificationID3] 0\n",
       "\\end{description*}\n"
      ],
      "text/markdown": [
       "YearStart\n",
       ":   0YearEnd\n",
       ":   0LocationAbbr\n",
       ":   0LocationDesc\n",
       ":   0DataSource\n",
       ":   0Topic\n",
       ":   0Question\n",
       ":   0Response\n",
       ":   0DataValueUnit\n",
       ":   0DataValueType\n",
       ":   0DataValue\n",
       ":   0DataValueAlt\n",
       ":   0DataValueFootnoteSymbol\n",
       ":   0DatavalueFootnote\n",
       ":   0LowConfidenceLimit\n",
       ":   0HighConfidenceLimit\n",
       ":   0StratificationCategory1\n",
       ":   0Stratification1\n",
       ":   0StratificationCategory2\n",
       ":   0Stratification2\n",
       ":   0StratificationCategory3\n",
       ":   0Stratification3\n",
       ":   0GeoLocation\n",
       ":   0ResponseID\n",
       ":   0LocationID\n",
       ":   0TopicID\n",
       ":   0QuestionID\n",
       ":   0DataValueTypeID\n",
       ":   0StratificationCategoryID1\n",
       ":   0StratificationID1\n",
       ":   0StratificationCategoryID2\n",
       ":   0StratificationID2\n",
       ":   0StratificationCategoryID3\n",
       ":   0StratificationID3\n",
       ":   0\n",
       "\n"
      ],
      "text/plain": [
       "                YearStart                   YearEnd              LocationAbbr \n",
       "                        0                         0                         0 \n",
       "             LocationDesc                DataSource                     Topic \n",
       "                        0                         0                         0 \n",
       "                 Question                  Response             DataValueUnit \n",
       "                        0                         0                         0 \n",
       "            DataValueType                 DataValue              DataValueAlt \n",
       "                        0                         0                         0 \n",
       "  DataValueFootnoteSymbol         DatavalueFootnote        LowConfidenceLimit \n",
       "                        0                         0                         0 \n",
       "      HighConfidenceLimit   StratificationCategory1           Stratification1 \n",
       "                        0                         0                         0 \n",
       "  StratificationCategory2           Stratification2   StratificationCategory3 \n",
       "                        0                         0                         0 \n",
       "          Stratification3               GeoLocation                ResponseID \n",
       "                        0                         0                         0 \n",
       "               LocationID                   TopicID                QuestionID \n",
       "                        0                         0                         0 \n",
       "          DataValueTypeID StratificationCategoryID1         StratificationID1 \n",
       "                        0                         0                         0 \n",
       "StratificationCategoryID2         StratificationID2 StratificationCategoryID3 \n",
       "                        0                         0                         0 \n",
       "        StratificationID3 \n",
       "                        0 "
      ]
     },
     "metadata": {},
     "output_type": "display_data"
    }
   ],
   "source": [
    "# Remove rows withg missing values\n",
    "cleaned_data <- na.omit(data)\n",
    "colSums(is.na(cleaned_data))"
   ]
  },
  {
   "cell_type": "markdown",
   "metadata": {},
   "source": [
    "2. #### Preprocessing the data with MICCE\n"
   ]
  },
  {
   "cell_type": "code",
   "execution_count": 10,
   "metadata": {
    "vscode": {
     "languageId": "r"
    }
   },
   "outputs": [
    {
     "data": {
      "text/html": [
       "<table class=\"dataframe\">\n",
       "<caption>A matrix: 4 × 35 of type dbl</caption>\n",
       "<thead>\n",
       "\t<tr><th></th><th scope=col>YearStart</th><th scope=col>YearEnd</th><th scope=col>LocationAbbr</th><th scope=col>LocationDesc</th><th scope=col>DataSource</th><th scope=col>Topic</th><th scope=col>Question</th><th scope=col>DataValueUnit</th><th scope=col>DataValueType</th><th scope=col>DataValue</th><th scope=col>⋯</th><th scope=col>StratificationCategory2</th><th scope=col>Stratification2</th><th scope=col>StratificationCategory3</th><th scope=col>Stratification3</th><th scope=col>ResponseID</th><th scope=col>StratificationCategoryID2</th><th scope=col>StratificationID2</th><th scope=col>StratificationCategoryID3</th><th scope=col>StratificationID3</th><th scope=col></th></tr>\n",
       "</thead>\n",
       "<tbody>\n",
       "\t<tr><th scope=row>246819</th><td>1</td><td>1</td><td>1</td><td>1</td><td>1</td><td>1</td><td>1</td><td>1</td><td>1</td><td>1</td><td>⋯</td><td>     0</td><td>     0</td><td>     0</td><td>     0</td><td>     0</td><td>     0</td><td>     0</td><td>     0</td><td>     0</td><td>     10</td></tr>\n",
       "\t<tr><th scope=row>26847</th><td>1</td><td>1</td><td>1</td><td>1</td><td>1</td><td>1</td><td>1</td><td>1</td><td>1</td><td>1</td><td>⋯</td><td>     0</td><td>     0</td><td>     0</td><td>     0</td><td>     0</td><td>     0</td><td>     0</td><td>     0</td><td>     0</td><td>     12</td></tr>\n",
       "\t<tr><th scope=row>130318</th><td>1</td><td>1</td><td>1</td><td>1</td><td>1</td><td>1</td><td>1</td><td>1</td><td>1</td><td>1</td><td>⋯</td><td>     0</td><td>     0</td><td>     0</td><td>     0</td><td>     0</td><td>     0</td><td>     0</td><td>     0</td><td>     0</td><td>     13</td></tr>\n",
       "\t<tr><th scope=row></th><td>0</td><td>0</td><td>0</td><td>0</td><td>0</td><td>0</td><td>0</td><td>0</td><td>0</td><td>0</td><td>⋯</td><td>403984</td><td>403984</td><td>403984</td><td>403984</td><td>403984</td><td>403984</td><td>403984</td><td>403984</td><td>403984</td><td>4484488</td></tr>\n",
       "</tbody>\n",
       "</table>\n"
      ],
      "text/latex": [
       "A matrix: 4 × 35 of type dbl\n",
       "\\begin{tabular}{r|lllllllllllllllllllll}\n",
       "  & YearStart & YearEnd & LocationAbbr & LocationDesc & DataSource & Topic & Question & DataValueUnit & DataValueType & DataValue & ⋯ & StratificationCategory2 & Stratification2 & StratificationCategory3 & Stratification3 & ResponseID & StratificationCategoryID2 & StratificationID2 & StratificationCategoryID3 & StratificationID3 & \\\\\n",
       "\\hline\n",
       "\t246819 & 1 & 1 & 1 & 1 & 1 & 1 & 1 & 1 & 1 & 1 & ⋯ &      0 &      0 &      0 &      0 &      0 &      0 &      0 &      0 &      0 &      10\\\\\n",
       "\t26847 & 1 & 1 & 1 & 1 & 1 & 1 & 1 & 1 & 1 & 1 & ⋯ &      0 &      0 &      0 &      0 &      0 &      0 &      0 &      0 &      0 &      12\\\\\n",
       "\t130318 & 1 & 1 & 1 & 1 & 1 & 1 & 1 & 1 & 1 & 1 & ⋯ &      0 &      0 &      0 &      0 &      0 &      0 &      0 &      0 &      0 &      13\\\\\n",
       "\t & 0 & 0 & 0 & 0 & 0 & 0 & 0 & 0 & 0 & 0 & ⋯ & 403984 & 403984 & 403984 & 403984 & 403984 & 403984 & 403984 & 403984 & 403984 & 4484488\\\\\n",
       "\\end{tabular}\n"
      ],
      "text/markdown": [
       "\n",
       "A matrix: 4 × 35 of type dbl\n",
       "\n",
       "| <!--/--> | YearStart | YearEnd | LocationAbbr | LocationDesc | DataSource | Topic | Question | DataValueUnit | DataValueType | DataValue | ⋯ | StratificationCategory2 | Stratification2 | StratificationCategory3 | Stratification3 | ResponseID | StratificationCategoryID2 | StratificationID2 | StratificationCategoryID3 | StratificationID3 | <!----> |\n",
       "|---|---|---|---|---|---|---|---|---|---|---|---|---|---|---|---|---|---|---|---|---|---|\n",
       "| 246819 | 1 | 1 | 1 | 1 | 1 | 1 | 1 | 1 | 1 | 1 | ⋯ |      0 |      0 |      0 |      0 |      0 |      0 |      0 |      0 |      0 |      10 |\n",
       "| 26847 | 1 | 1 | 1 | 1 | 1 | 1 | 1 | 1 | 1 | 1 | ⋯ |      0 |      0 |      0 |      0 |      0 |      0 |      0 |      0 |      0 |      12 |\n",
       "| 130318 | 1 | 1 | 1 | 1 | 1 | 1 | 1 | 1 | 1 | 1 | ⋯ |      0 |      0 |      0 |      0 |      0 |      0 |      0 |      0 |      0 |      13 |\n",
       "| <!----> | 0 | 0 | 0 | 0 | 0 | 0 | 0 | 0 | 0 | 0 | ⋯ | 403984 | 403984 | 403984 | 403984 | 403984 | 403984 | 403984 | 403984 | 403984 | 4484488 |\n",
       "\n"
      ],
      "text/plain": [
       "       YearStart YearEnd LocationAbbr LocationDesc DataSource Topic Question\n",
       "246819 1         1       1            1            1          1     1       \n",
       "26847  1         1       1            1            1          1     1       \n",
       "130318 1         1       1            1            1          1     1       \n",
       "       0         0       0            0            0          0     0       \n",
       "       DataValueUnit DataValueType DataValue ⋯ StratificationCategory2\n",
       "246819 1             1             1         ⋯      0                 \n",
       "26847  1             1             1         ⋯      0                 \n",
       "130318 1             1             1         ⋯      0                 \n",
       "       0             0             0         ⋯ 403984                 \n",
       "       Stratification2 StratificationCategory3 Stratification3 ResponseID\n",
       "246819      0               0                       0               0    \n",
       "26847       0               0                       0               0    \n",
       "130318      0               0                       0               0    \n",
       "       403984          403984                  403984          403984    \n",
       "       StratificationCategoryID2 StratificationID2 StratificationCategoryID3\n",
       "246819      0                         0                 0                   \n",
       "26847       0                         0                 0                   \n",
       "130318      0                         0                 0                   \n",
       "       403984                    403984            403984                   \n",
       "       StratificationID3        \n",
       "246819      0                 10\n",
       "26847       0                 12\n",
       "130318      0                 13\n",
       "       403984            4484488"
      ]
     },
     "metadata": {},
     "output_type": "display_data"
    },
    {
     "data": {
      "image/png": "[encoded data removed]",
      "text/plain": [
       "plot without title"
      ]
     },
     "metadata": {
      "image/png": {
       "height": 420,
       "width": 420
      }
     },
     "output_type": "display_data"
    }
   ],
   "source": [
    "# Check Misisng values\n",
    "md.pattern(data)  # Shows the missing data pattern"
   ]
  }
 ],
 "metadata": {
  "kernelspec": {
   "display_name": "R",
   "language": "R",
   "name": "ir"
  },
  "language_info": {
   "codemirror_mode": "r",
   "file_extension": ".r",
   "mimetype": "text/x-r-source",
   "name": "R",
   "pygments_lexer": "r",
   "version": "4.4.2"
  }
 },
 "nbformat": 4,
 "nbformat_minor": 2
}
