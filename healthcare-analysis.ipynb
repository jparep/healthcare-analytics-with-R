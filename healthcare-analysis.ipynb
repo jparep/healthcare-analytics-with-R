{
 "cells": [
  {
   "cell_type": "code",
   "execution_count": 4,
   "metadata": {
    "vscode": {
     "languageId": "r"
    }
   },
   "outputs": [],
   "source": [
    "# # Install essential packages\n",
    "# install.packages(\"tidyverse\")\n",
    "# install.packages(\"ggplot2\")\n",
    "# install.packages(\"dplyr\")\n",
    "# install.packages(\"caret\")\n",
    "# install.packages(\"randomForest\")\n",
    "# install.packages(\"e1071\")"
   ]
  },
  {
   "cell_type": "markdown",
   "metadata": {},
   "source": [
    "### Import Libraries"
   ]
  },
  {
   "cell_type": "code",
   "execution_count": 6,
   "metadata": {
    "vscode": {
     "languageId": "r"
    }
   },
   "outputs": [
    {
     "name": "stderr",
     "output_type": "stream",
     "text": [
      "\u001b[1m\u001b[22m\u001b[90m[conflicted]\u001b[39m Removing existing preference.\n",
      "\u001b[1m\u001b[22m\u001b[90m[conflicted]\u001b[39m Will prefer \u001b[1m\u001b[34mdplyr\u001b[39m\u001b[22m::filter over any other package.\n",
      "\u001b[1m\u001b[22m\u001b[90m[conflicted]\u001b[39m Removing existing preference.\n",
      "\u001b[1m\u001b[22m\u001b[90m[conflicted]\u001b[39m Will prefer \u001b[1m\u001b[34mdplyr\u001b[39m\u001b[22m::lag over any other package.\n"
     ]
    }
   ],
   "source": [
    "# Load essential libraries\n",
    "library(tidyverse)\n",
    "library(caret)\n",
    "library(ggplot2)\n",
    "library(randomForest)\n",
    "library(e1071)\n",
    "\n",
    "# Install and load the conflicted package (if not installed, install first)\n",
    "if (!requireNamespace(\"conflicted\", quietly = TRUE)) {\n",
    "  install.packages(\"conflicted\")\n",
    "}\n",
    "library(conflicted)\n",
    "\n",
    "# Explicitly resolve conflicts\n",
    "conflicted::conflict_prefer(\"filter\", \"dplyr\")  # Always use dplyr::filter()\n",
    "conflicted::conflict_prefer(\"lag\", \"dplyr\")     # Always use dplyr::lag()\n"
   ]
  },
  {
   "cell_type": "markdown",
   "metadata": {},
   "source": [
    "### Load Data set"
   ]
  },
  {
   "cell_type": "code",
   "execution_count": 3,
   "metadata": {
    "vscode": {
     "languageId": "r"
    }
   },
   "outputs": [
    {
     "data": {
      "text/html": [
       "'/home/jparep/proj/healthcare-analytics-with-R'"
      ],
      "text/latex": [
       "'/home/jparep/proj/healthcare-analytics-with-R'"
      ],
      "text/markdown": [
       "'/home/jparep/proj/healthcare-analytics-with-R'"
      ],
      "text/plain": [
       "[1] \"/home/jparep/proj/healthcare-analytics-with-R\""
      ]
     },
     "metadata": {},
     "output_type": "display_data"
    }
   ],
   "source": [
    "# Get the current directory\n",
    "getwd()"
   ]
  },
  {
   "cell_type": "code",
   "execution_count": 5,
   "metadata": {
    "vscode": {
     "languageId": "r"
    }
   },
   "outputs": [],
   "source": [
    "data <- read.csv(\"./data/US_chronic_disease_indicator.csv\")"
   ]
  },
  {
   "cell_type": "markdown",
   "metadata": {},
   "source": [
    "### EDA"
   ]
  },
  {
   "cell_type": "code",
   "execution_count": 6,
   "metadata": {
    "vscode": {
     "languageId": "r"
    }
   },
   "outputs": [
    {
     "data": {
      "text/plain": [
       "   YearStart       YearEnd     LocationAbbr       LocationDesc      \n",
       " Min.   :2001   Min.   :2001   Length:403984      Length:403984     \n",
       " 1st Qu.:2011   1st Qu.:2012   Class :character   Class :character  \n",
       " Median :2013   Median :2013   Mode  :character   Mode  :character  \n",
       " Mean   :2013   Mean   :2013                                        \n",
       " 3rd Qu.:2014   3rd Qu.:2014                                        \n",
       " Max.   :2016   Max.   :2016                                        \n",
       "                                                                    \n",
       "  DataSource           Topic             Question         Response      \n",
       " Length:403984      Length:403984      Length:403984      Mode:logical  \n",
       " Class :character   Class :character   Class :character   NA's:403984   \n",
       " Mode  :character   Mode  :character   Mode  :character                 \n",
       "                                                                        \n",
       "                                                                        \n",
       "                                                                        \n",
       "                                                                        \n",
       " DataValueUnit      DataValueType       DataValue          DataValueAlt    \n",
       " Length:403984      Length:403984      Length:403984      Min.   :      0  \n",
       " Class :character   Class :character   Class :character   1st Qu.:     19  \n",
       " Mode  :character   Mode  :character   Mode  :character   Median :     42  \n",
       "                                                          Mean   :    727  \n",
       "                                                          3rd Qu.:     71  \n",
       "                                                          Max.   :3967333  \n",
       "                                                          NA's   :130318   \n",
       " DataValueFootnoteSymbol DatavalueFootnote  LowConfidenceLimit\n",
       " Length:403984           Length:403984      Min.   :   0.20   \n",
       " Class :character        Class :character   1st Qu.:  13.00   \n",
       " Mode  :character        Mode  :character   Median :  31.10   \n",
       "                                            Mean   :  49.73   \n",
       "                                            3rd Qu.:  57.40   \n",
       "                                            Max.   :1293.90   \n",
       "                                            NA's   :157165    \n",
       " HighConfidenceLimit StratificationCategory1 Stratification1   \n",
       " Min.   :   0.42     Length:403984           Length:403984     \n",
       " 1st Qu.:  20.20     Class :character        Class :character  \n",
       " Median :  45.60     Mode  :character        Mode  :character  \n",
       " Mean   :  62.65                                               \n",
       " 3rd Qu.:  72.20                                               \n",
       " Max.   :2088.00                                               \n",
       " NA's   :157165                                                \n",
       " StratificationCategory2 Stratification2 StratificationCategory3\n",
       " Mode:logical            Mode:logical    Mode:logical           \n",
       " NA's:403984             NA's:403984     NA's:403984            \n",
       "                                                                \n",
       "                                                                \n",
       "                                                                \n",
       "                                                                \n",
       "                                                                \n",
       " Stratification3 GeoLocation        ResponseID       LocationID\n",
       " Mode:logical    Length:403984      Mode:logical   Min.   : 1  \n",
       " NA's:403984     Class :character   NA's:403984    1st Qu.:17  \n",
       "                 Mode  :character                  Median :30  \n",
       "                                                   Mean   :31  \n",
       "                                                   3rd Qu.:45  \n",
       "                                                   Max.   :78  \n",
       "                                                               \n",
       "   TopicID           QuestionID        DataValueTypeID   \n",
       " Length:403984      Length:403984      Length:403984     \n",
       " Class :character   Class :character   Class :character  \n",
       " Mode  :character   Mode  :character   Mode  :character  \n",
       "                                                         \n",
       "                                                         \n",
       "                                                         \n",
       "                                                         \n",
       " StratificationCategoryID1 StratificationID1  StratificationCategoryID2\n",
       " Length:403984             Length:403984      Mode:logical             \n",
       " Class :character          Class :character   NA's:403984              \n",
       " Mode  :character          Mode  :character                            \n",
       "                                                                       \n",
       "                                                                       \n",
       "                                                                       \n",
       "                                                                       \n",
       " StratificationID2 StratificationCategoryID3 StratificationID3\n",
       " Mode:logical      Mode:logical              Mode:logical     \n",
       " NA's:403984       NA's:403984               NA's:403984      \n",
       "                                                              \n",
       "                                                              \n",
       "                                                              \n",
       "                                                              \n",
       "                                                              "
      ]
     },
     "metadata": {},
     "output_type": "display_data"
    }
   ],
   "source": [
    "# Get summary of the data\n",
    "summary(data)"
   ]
  }
 ],
 "metadata": {
  "kernelspec": {
   "display_name": "R",
   "language": "R",
   "name": "ir"
  },
  "language_info": {
   "codemirror_mode": "r",
   "file_extension": ".r",
   "mimetype": "text/x-r-source",
   "name": "R",
   "pygments_lexer": "r",
   "version": "4.4.2"
  }
 },
 "nbformat": 4,
 "nbformat_minor": 2
}
